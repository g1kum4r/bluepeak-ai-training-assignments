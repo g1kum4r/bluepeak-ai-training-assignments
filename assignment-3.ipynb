{
 "cells": [
  {
   "cell_type": "markdown",
   "metadata": {},
   "source": [
    "# Make a list by taking 20 input from user. Now delete all repeated elements of the list. hint: use loops"
   ]
  },
  {
   "cell_type": "markdown",
   "metadata": {},
   "source": [
    "## solution 1"
   ]
  },
  {
   "cell_type": "code",
   "execution_count": 3,
   "metadata": {},
   "outputs": [
    {
     "name": "stdout",
     "output_type": "stream",
     "text": [
      "Enter number 0: 3\n",
      "Enter number 1: 6\n",
      "Enter number 2: 5\n",
      "Enter number 3: 6\n",
      "Enter number 4: 1\n",
      "Enter number 5: 5\n",
      "Enter number 6: 2\n",
      "Enter number 7: 3\n",
      "Enter number 8: 5\n",
      "Enter number 9: 2\n",
      "[3, 6, 5, 6, 1, 5, 2, 3, 5, 2]\n"
     ]
    },
    {
     "ename": "IndexError",
     "evalue": "list index out of range",
     "output_type": "error",
     "traceback": [
      "\u001b[1;31m---------------------------------------------------------------------------\u001b[0m",
      "\u001b[1;31mIndexError\u001b[0m                                Traceback (most recent call last)",
      "\u001b[1;32m<ipython-input-3-ffc428475304>\u001b[0m in \u001b[0;36m<module>\u001b[1;34m\u001b[0m\n\u001b[0;32m      8\u001b[0m \u001b[1;32mfor\u001b[0m \u001b[0mel\u001b[0m \u001b[1;32min\u001b[0m \u001b[0muser_list\u001b[0m\u001b[1;33m:\u001b[0m\u001b[1;33m\u001b[0m\u001b[1;33m\u001b[0m\u001b[0m\n\u001b[0;32m      9\u001b[0m     \u001b[1;32mfor\u001b[0m \u001b[0mj\u001b[0m \u001b[1;32min\u001b[0m \u001b[0mrange\u001b[0m\u001b[1;33m(\u001b[0m\u001b[0muser_list\u001b[0m\u001b[1;33m.\u001b[0m\u001b[0mindex\u001b[0m\u001b[1;33m(\u001b[0m\u001b[0mel\u001b[0m\u001b[1;33m)\u001b[0m\u001b[1;33m+\u001b[0m\u001b[1;36m1\u001b[0m\u001b[1;33m,\u001b[0m \u001b[0mlen\u001b[0m\u001b[1;33m(\u001b[0m\u001b[0muser_list\u001b[0m\u001b[1;33m)\u001b[0m\u001b[1;33m)\u001b[0m\u001b[1;33m:\u001b[0m\u001b[1;33m\u001b[0m\u001b[1;33m\u001b[0m\u001b[0m\n\u001b[1;32m---> 10\u001b[1;33m         \u001b[1;32mif\u001b[0m \u001b[0muser_list\u001b[0m\u001b[1;33m[\u001b[0m\u001b[0mj\u001b[0m\u001b[1;33m]\u001b[0m \u001b[1;33m==\u001b[0m \u001b[0mel\u001b[0m\u001b[1;33m:\u001b[0m\u001b[1;33m\u001b[0m\u001b[1;33m\u001b[0m\u001b[0m\n\u001b[0m\u001b[0;32m     11\u001b[0m             \u001b[1;32mdel\u001b[0m \u001b[0muser_list\u001b[0m\u001b[1;33m[\u001b[0m\u001b[0mj\u001b[0m\u001b[1;33m]\u001b[0m\u001b[1;33m\u001b[0m\u001b[1;33m\u001b[0m\u001b[0m\n\u001b[0;32m     12\u001b[0m     \u001b[0mi\u001b[0m \u001b[1;33m+=\u001b[0m \u001b[1;36m1\u001b[0m\u001b[1;33m\u001b[0m\u001b[1;33m\u001b[0m\u001b[0m\n",
      "\u001b[1;31mIndexError\u001b[0m: list index out of range"
     ]
    }
   ],
   "source": [
    "## iterate the element, through the list and check for duplicate, if it is exist, then remove it\n",
    "user_list = []\n",
    "for i in range(10):\n",
    "    user_list.append(eval(input(f\"Enter number {i}: \")))\n",
    "\n",
    "print(user_list)\n",
    "\n",
    "for el in user_list:\n",
    "    for j in range(user_list.index(el)+1, len(user_list)):\n",
    "        if user_list[j] == el:\n",
    "            del user_list[j]\n",
    "    i += 1\n",
    "\n",
    "            \n",
    "user_list.remove(None)\n",
    "print(user_list)"
   ]
  },
  {
   "cell_type": "markdown",
   "metadata": {},
   "source": [
    "# solution 2"
   ]
  },
  {
   "cell_type": "code",
   "execution_count": 1,
   "metadata": {},
   "outputs": [
    {
     "name": "stdout",
     "output_type": "stream",
     "text": [
      "Enter number 0: 1\n",
      "Enter number 1: 2\n",
      "Enter number 2: 3\n",
      "Enter number 3: 4\n",
      "Enter number 4: 5\n",
      "Enter number 5: 6\n",
      "Enter number 6: 4\n",
      "Enter number 7: 3\n",
      "Enter number 8: 2\n",
      "Enter number 9: 2\n",
      "Enter number 10: 4\n",
      "Enter number 11: 5\n",
      "Enter number 12: 6\n",
      "Enter number 13: 6\n",
      "Enter number 14: 4\n",
      "Enter number 15: 3\n",
      "Enter number 16: 2\n",
      "Enter number 17: 1\n",
      "Enter number 18: 3\n",
      "Enter number 19: 4\n",
      "[1, 2, 3, 4, 5, 6]\n"
     ]
    }
   ],
   "source": [
    "## don't add the number if already exists\n",
    "user_list = []\n",
    "for i in range(20):\n",
    "    input_el = eval(input(f\"Enter number {i}: \"))\n",
    "    if input_el not in user_list:\n",
    "        user_list.append(input_el)\n",
    "\n",
    "print(user_list)"
   ]
  },
  {
   "cell_type": "code",
   "execution_count": 9,
   "metadata": {},
   "outputs": [
    {
     "name": "stdout",
     "output_type": "stream",
     "text": [
      "before 0\n",
      "after 1\n",
      "before 1\n",
      "after 1\n",
      "before 2\n",
      "after 3\n",
      "before 3\n",
      "after 3\n",
      "before 4\n",
      "after 5\n",
      "before 5\n",
      "after 5\n",
      "before 6\n",
      "after 7\n",
      "before 7\n",
      "after 7\n",
      "before 8\n",
      "after 9\n",
      "before 9\n",
      "after 9\n"
     ]
    }
   ],
   "source": [
    "## don't add the number if already exists\n",
    "for i in range(10):\n",
    "    print(f\"before {i}\")\n",
    "    if i % 2 == 0:\n",
    "        i += 1\n",
    "    print(f\"after {i}\")"
   ]
  }
 ],
 "metadata": {
  "kernelspec": {
   "display_name": "Python 3",
   "language": "python",
   "name": "python3"
  },
  "language_info": {
   "codemirror_mode": {
    "name": "ipython",
    "version": 3
   },
   "file_extension": ".py",
   "mimetype": "text/x-python",
   "name": "python",
   "nbconvert_exporter": "python",
   "pygments_lexer": "ipython3",
   "version": "3.7.6"
  }
 },
 "nbformat": 4,
 "nbformat_minor": 4
}
