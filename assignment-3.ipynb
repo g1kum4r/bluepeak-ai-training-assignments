{
 "cells": [
  {
   "cell_type": "markdown",
   "metadata": {},
   "source": [
    "# Make a list by taking 20 input from user. Now delete all repeated elements of the list. hint: use loops"
   ]
  },
  {
   "cell_type": "markdown",
   "metadata": {},
   "source": [
    "## solution 1"
   ]
  },
  {
   "cell_type": "code",
   "execution_count": null,
   "metadata": {},
   "outputs": [],
   "source": [
    "number_of_elements = 20"
   ]
  },
  {
   "cell_type": "code",
   "execution_count": null,
   "metadata": {},
   "outputs": [],
   "source": [
    "# convert the list to set to remove the duplicate entries, then use set/list, whatever you want\n",
    "user_list = []\n",
    "for i in range(number_of_elements):\n",
    "    user_list.append(eval(input(f\"Enter number {i}: \")))\n",
    "\n",
    "user_list = list(set(user_list))\n",
    "print(user_list)"
   ]
  },
  {
   "cell_type": "markdown",
   "metadata": {},
   "source": [
    "# solution 2"
   ]
  },
  {
   "cell_type": "code",
   "execution_count": null,
   "metadata": {},
   "outputs": [],
   "source": [
    "## don't add the number if already exists\n",
    "user_list = []\n",
    "for i in range(number_of_elements):\n",
    "    input_el = eval(input(f\"Enter number {i}: \"))\n",
    "    if input_el not in user_list:\n",
    "        user_list.append(input_el)\n",
    "\n",
    "print(user_list)"
   ]
  },
  {
   "cell_type": "markdown",
   "metadata": {},
   "source": [
    "## solution 3"
   ]
  },
  {
   "cell_type": "code",
   "execution_count": null,
   "metadata": {},
   "outputs": [],
   "source": [
    "# use dict.fromkeys to eliminate/filter the duplicates entries\n",
    "user_list = []\n",
    "for i in range(number_of_elements):\n",
    "    user_list.append(eval(input(f\"Enter number {i}: \")))\n",
    "\n",
    "    \n",
    "user_list = list(dict.fromkeys(user_list))\n",
    "print(user_list)\n",
    "    \n",
    "    "
   ]
  },
  {
   "cell_type": "markdown",
   "metadata": {},
   "source": []
  },
  {
   "cell_type": "code",
   "execution_count": null,
   "metadata": {},
   "outputs": [],
   "source": []
  }
 ],
 "metadata": {
  "kernelspec": {
   "display_name": "Python 3",
   "language": "python",
   "name": "python3"
  },
  "language_info": {
   "codemirror_mode": {
    "name": "ipython",
    "version": 3
   },
   "file_extension": ".py",
   "mimetype": "text/x-python",
   "name": "python",
   "nbconvert_exporter": "python",
   "pygments_lexer": "ipython3",
   "version": "3.7.6"
  }
 },
 "nbformat": 4,
 "nbformat_minor": 4
}
