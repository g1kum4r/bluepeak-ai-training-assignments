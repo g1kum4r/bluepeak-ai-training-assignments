{
 "cells": [
  {
   "cell_type": "markdown",
   "metadata": {},
   "source": [
    "# Assignment 2\n",
    "write the logic to take input from user for start, end, step, index_1, index_2, val_1,val_2,val_place_1 and val_place_2.\n",
    "1. Use range() to initialize a generator using start, end and step and convert it into a list.\n",
    "2. Then create 2 lists using the same parameters and method.\n",
    "3. Now add 2nd list in the first list at the position of index_1 \n",
    "4. and then add 3rd list in the 2nd list (which is now nested in first list) at the place of index_2\n",
    "5. now, at the index place val_place_1 in 2nd list(nested) put value of val_1 \n",
    "6. then at the index place val_place_2 in 3rd list(nested in 2nd list) put value of val_2 \n",
    "\n",
    "try,\n",
    "start=5, end=15, step=2,index_1=2,index_2=3,val_1=50,val_2=60,val_place_1=1, val_place_2=0\n",
    "start=5, end=20, step=3,index_1=1,index_2=2,val_1=50,val_2=60,val_place_1=4, val_place_2=3\n",
    "start=-1, end=-20, step=2,index_1=2,index_2=3,val_1=50,val_2=60,val_place_1=0, val_place_2=2"
   ]
  },
  {
   "cell_type": "code",
   "execution_count": null,
   "metadata": {},
   "outputs": [],
   "source": [
    "print(\"list 1\")\n",
    "start = eval(input(\"start: \"))\n",
    "end = eval(input(\"end: \"))\n",
    "step = eval(input(\"step: \"))\n",
    "list_1 = list(range(start,end,step))\n",
    "print(list_1)\n",
    "\n",
    "\n",
    "print('\\n\\nlist 2')\n",
    "start = eval(input(\"start: \"))\n",
    "end = eval(input(\"end: \"))\n",
    "step = eval(input(\"step: \"))\n",
    "list_2 = list(range(start,end,step))\n",
    "print(list_2)\n",
    "\n",
    "index_1 = eval(input(\"index position of list_1: \"))\n",
    "list_1[index_1] = list_2\n",
    "print(list_1)\n",
    "\n",
    "index_2 = eval(input(\"index position of list_2: \"))\n",
    "list_2[index_2] = list_1\n",
    "print(list_2)\n",
    "\n",
    "\n",
    "\n",
    "val_1 = eval(input(\"enter val_1: \"))\n",
    "val_place_1 = eval(input(\"enter val_place_1: \"))\n",
    "list_2[val_place_1] = val_1\n",
    "print(list_2)\n",
    "\n",
    "val_2 = eval(input(\"enter val_2: \"))\n",
    "val_place_2 = eval(input(\"enter val_place_2: \"))\n",
    "list_1[val_place_2] = val_2\n",
    "print(list_1)"
   ]
  }
 ],
 "metadata": {
  "kernelspec": {
   "display_name": "Python 3",
   "language": "python",
   "name": "python3"
  },
  "language_info": {
   "codemirror_mode": {
    "name": "ipython",
    "version": 3
   },
   "file_extension": ".py",
   "mimetype": "text/x-python",
   "name": "python",
   "nbconvert_exporter": "python",
   "pygments_lexer": "ipython3",
   "version": "3.7.6"
  }
 },
 "nbformat": 4,
 "nbformat_minor": 4
}
