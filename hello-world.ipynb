{
 "cells": [
  {
   "cell_type": "code",
   "execution_count": 40,
   "metadata": {},
   "outputs": [],
   "source": [
    "P = (P0, P1, P2, P3)\n",
    "resources = {'A':2, 'B':5, 'C':3}\n",
    "allocation = [[0, 1, 1],[1, 2, 3],[1, 3, 6],[0, 6, 3]]\n",
    "max = [[0,2,1],[1,6,5],[2,3,6],[0,6,5]]\n",
    "available = [2,5,4]\n",
    "need = []\n",
    "for (i) in range(len(P)):\n",
    "    n = []\n",
    "    for j in range(len(resources)):\n",
    "       n.insert(j, max[i][j] - allocation[i][j])\n",
    "    need.insert(i, n)"
   ]
  },
  {
   "cell_type": "code",
   "execution_count": 42,
   "metadata": {},
   "outputs": [
    {
     "name": "stdout",
     "output_type": "stream",
     "text": [
      "Need Matrix content: [[0, 1, 0], [0, 4, 2], [1, 0, 0], [0, 0, 2]]\n"
     ]
    }
   ],
   "source": [
    "print(f\"Need Matrix content: {need}\")"
   ]
  },
  {
   "cell_type": "code",
   "execution_count": null,
   "metadata": {},
   "outputs": [],
   "source": [
    "finish = "
   ]
  },
  {
   "cell_type": "code",
   "execution_count": null,
   "metadata": {},
   "outputs": [],
   "source": []
  },
  {
   "cell_type": "code",
   "execution_count": null,
   "metadata": {},
   "outputs": [],
   "source": []
  },
  {
   "cell_type": "code",
   "execution_count": null,
   "metadata": {},
   "outputs": [],
   "source": []
  },
  {
   "cell_type": "code",
   "execution_count": null,
   "metadata": {},
   "outputs": [],
   "source": []
  }
 ],
 "metadata": {
  "kernelspec": {
   "display_name": "Python 3",
   "language": "python",
   "name": "python3"
  },
  "language_info": {
   "codemirror_mode": {
    "name": "ipython",
    "version": 3
   },
   "file_extension": ".py",
   "mimetype": "text/x-python",
   "name": "python",
   "nbconvert_exporter": "python",
   "pygments_lexer": "ipython3",
   "version": "3.7.6"
  }
 },
 "nbformat": 4,
 "nbformat_minor": 4
}
