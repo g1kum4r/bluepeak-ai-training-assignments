{
 "cells": [
  {
   "cell_type": "markdown",
   "metadata": {},
   "source": [
    "# Assignment:\n",
    "write a logic to take input from user for start, end and step. Then create a string that with value \"The quick brown fox jumped over the lazy \n",
    "dogsThe quick brown fox jumped over the \n",
    "lazy dogsThe quick brown fox jumped over \n",
    "the lazy dogsThe quick brown fox jumped\". Then use the start, end and step value to subset the string value and print the output in an expressive way, as in, what is the start, end, step and what is the output. Once you have written the logic, try,\n",
    "start=5, end=15, step=2\n",
    "start=5, end=20, step=3\n",
    "start=-1, end=-10, step=2"
   ]
  },
  {
   "cell_type": "code",
   "execution_count": 3,
   "metadata": {},
   "outputs": [],
   "source": [
    "para = \"\"\"\n",
    "The quick brown fox jumped over the lazy dogsThe quick brown fox jumped \n",
    "over the lazy dogsThe quick brown fox jumped over the lazy dogsThe quick brown fox jumped\n",
    "\"\"\""
   ]
  },
  {
   "cell_type": "markdown",
   "metadata": {},
   "source": [
    "## solution 1"
   ]
  },
  {
   "cell_type": "code",
   "execution_count": 4,
   "metadata": {},
   "outputs": [
    {
     "name": "stdout",
     "output_type": "stream",
     "text": [
      "Enter Start: 5\n",
      "Enter End: 15\n",
      "Enter Steps: 2\n",
      "qikbo\n",
      "Enter Start: 5\n",
      "Enter End: 20\n",
      "Enter Steps: 3\n",
      "qcbwf\n",
      "Enter Start: -1\n",
      "Enter End: -10\n",
      "Enter Steps: 2\n",
      "\n"
     ]
    }
   ],
   "source": [
    "start = eval(input(\"Enter Start: \"))\n",
    "end = eval(input(\"Enter End: \"))\n",
    "step = eval(input(\"Enter Steps: \"))\n",
    "print(\"[{}:{}:{}] {}\".format(start, end, step, para[start:end:step]))\n",
    "\n",
    "start = eval(input(\"Enter Start: \"))\n",
    "end = eval(input(\"Enter End: \"))\n",
    "step = eval(input(\"Enter Steps: \"))\n",
    "print(\"[{}:{}:{}] {}\".format(start, end, step, para[start:end:step]))\n",
    "\n",
    "start = eval(input(\"Enter Start: \"))\n",
    "end = eval(input(\"Enter End: \"))\n",
    "step = eval(input(\"Enter Steps: \"))\n",
    "print(\"[{}:{}:{}] {}\".format(start, end, step, para[start:end:step]))"
   ]
  },
  {
   "cell_type": "markdown",
   "metadata": {},
   "source": [
    "## solutions 2"
   ]
  },
  {
   "cell_type": "code",
   "execution_count": 8,
   "metadata": {},
   "outputs": [
    {
     "name": "stdout",
     "output_type": "stream",
     "text": [
      "Enter Start: 5\n",
      "Enter End: 15\n",
      "Enter Steps: 2\n",
      "[5:15:2] qikbo\n",
      "Enter Start: 5\n",
      "Enter End: 20\n",
      "Enter Steps: 3\n",
      "[5:20:3] qcbwf\n",
      "Enter Start: -1\n",
      "Enter End: -10\n",
      "Enter Steps: 2\n",
      "[-1:-10:2] \n"
     ]
    }
   ],
   "source": [
    "trials = 3\n",
    "tried = 0\n",
    "\n",
    "while tried < trials:    \n",
    "    start = eval(input(\"Enter Start: \"))\n",
    "    end = eval(input(\"Enter End: \"))\n",
    "    step = eval(input(\"Enter Steps: \"))\n",
    "    print(\"[{}:{}:{}] {}\".format(start, end, step, para[start:end:step]))\n",
    "    tried += 1"
   ]
  },
  {
   "cell_type": "markdown",
   "metadata": {},
   "source": [
    "### more solutions like, defining the input for the number of trails"
   ]
  }
 ],
 "metadata": {
  "kernelspec": {
   "display_name": "Python 3",
   "language": "python",
   "name": "python3"
  },
  "language_info": {
   "codemirror_mode": {
    "name": "ipython",
    "version": 3
   },
   "file_extension": ".py",
   "mimetype": "text/x-python",
   "name": "python",
   "nbconvert_exporter": "python",
   "pygments_lexer": "ipython3",
   "version": "3.7.6"
  }
 },
 "nbformat": 4,
 "nbformat_minor": 4
}
